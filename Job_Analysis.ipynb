{
 "cells": [
  {
   "cell_type": "code",
   "execution_count": 17,
   "metadata": {
    "collapsed": true
   },
   "outputs": [],
   "source": [
    "import pandas as pd\n",
    "import matplotlib.pyplot as plt"
   ]
  },
  {
   "cell_type": "code",
   "execution_count": 3,
   "metadata": {
    "collapsed": false
   },
   "outputs": [],
   "source": [
    "data = pd.read_csv(\"job_test_440.csv\")"
   ]
  },
  {
   "cell_type": "code",
   "execution_count": 9,
   "metadata": {
    "collapsed": false
   },
   "outputs": [],
   "source": [
    "data = data.drop('Unnamed: 0', 1)"
   ]
  },
  {
   "cell_type": "code",
   "execution_count": 10,
   "metadata": {
    "collapsed": false
   },
   "outputs": [
    {
     "data": {
      "text/html": [
       "<div>\n",
       "<table border=\"1\" class=\"dataframe\">\n",
       "  <thead>\n",
       "    <tr style=\"text-align: right;\">\n",
       "      <th></th>\n",
       "      <th>Company</th>\n",
       "      <th>Industry</th>\n",
       "      <th>People</th>\n",
       "      <th>Salary</th>\n",
       "      <th>Location</th>\n",
       "      <th>Financing</th>\n",
       "      <th>JD</th>\n",
       "    </tr>\n",
       "  </thead>\n",
       "  <tbody>\n",
       "    <tr>\n",
       "      <th>0</th>\n",
       "      <td>[数据优化分析师招聘-舜飞科技招聘-拉勾网]</td>\n",
       "      <td>移动互联网\\n</td>\n",
       "      <td>50-150人\\n</td>\n",
       "      <td>5k-10k</td>\n",
       "      <td>[广州市天河北路高科大厦A座23A楼06-07室]</td>\n",
       "      <td>A轮</td>\n",
       "      <td>[ ]</td>\n",
       "    </tr>\n",
       "    <tr>\n",
       "      <th>1</th>\n",
       "      <td>[数据分析师招聘-珍爱网招聘-拉勾网]</td>\n",
       "      <td>社交网络,生活服务\\n</td>\n",
       "      <td>2000人以上\\n</td>\n",
       "      <td>8k-15k</td>\n",
       "      <td>[深圳市南山区科技园北区朗山路同方信息港A座3楼]</td>\n",
       "      <td>未融资</td>\n",
       "      <td>[职位描述：, &lt;br/&gt;, 1、负责业务数据整理，推进部门分析体系建设。, &lt;br/&gt;, ...</td>\n",
       "    </tr>\n",
       "    <tr>\n",
       "      <th>2</th>\n",
       "      <td>[数据产品经理招聘-陌陌招聘-拉勾网]</td>\n",
       "      <td>社交网络\\n</td>\n",
       "      <td>150-500人\\n</td>\n",
       "      <td>10k-18k</td>\n",
       "      <td>[北京市朝阳区望京阜通东大街1号望京soho，塔2，B座20层]</td>\n",
       "      <td>上市公司</td>\n",
       "      <td>[岗位职责：]</td>\n",
       "    </tr>\n",
       "    <tr>\n",
       "      <th>3</th>\n",
       "      <td>[IOS软件开发工程师 –数据...招聘-NeuLion中国招聘-拉勾网]</td>\n",
       "      <td>移动互联网,文化娱乐\\n</td>\n",
       "      <td>50-150人\\n</td>\n",
       "      <td>15k-25k</td>\n",
       "      <td>[上海市长宁区金钟路658弄5号楼2楼]</td>\n",
       "      <td>上市公司</td>\n",
       "      <td>[&lt;strong&gt;IOS软件开发工程师 –数据媒体应用 &lt;br/&gt;&lt;/strong&gt;]</td>\n",
       "    </tr>\n",
       "    <tr>\n",
       "      <th>4</th>\n",
       "      <td>[数据分析师招聘-同程旅游招聘-拉勾网]</td>\n",
       "      <td>移动互联网,旅游\\n</td>\n",
       "      <td>2000人以上\\n</td>\n",
       "      <td>6k-10k</td>\n",
       "      <td>[苏州工业园区星湖街328号创意产业园7幢8楼]</td>\n",
       "      <td>D轮及以上</td>\n",
       "      <td>[&lt;strong&gt;数据分析师（移动互联网方向）&lt;/strong&gt;]</td>\n",
       "    </tr>\n",
       "  </tbody>\n",
       "</table>\n",
       "</div>"
      ],
      "text/plain": [
       "                                 Company                       Industry  \\\n",
       "0                 [数据优化分析师招聘-舜飞科技招聘-拉勾网]        移动互联网\\n                   \n",
       "1                    [数据分析师招聘-珍爱网招聘-拉勾网]    社交网络,生活服务\\n                   \n",
       "2                    [数据产品经理招聘-陌陌招聘-拉勾网]         社交网络\\n                   \n",
       "3  [IOS软件开发工程师 –数据...招聘-NeuLion中国招聘-拉勾网]   移动互联网,文化娱乐\\n                   \n",
       "4                   [数据分析师招聘-同程旅游招聘-拉勾网]     移动互联网,旅游\\n                   \n",
       "\n",
       "                    People   Salary                          Location  \\\n",
       "0    50-150人\\n               5k-10k         [广州市天河北路高科大厦A座23A楼06-07室]   \n",
       "1    2000人以上\\n               8k-15k         [深圳市南山区科技园北区朗山路同方信息港A座3楼]   \n",
       "2   150-500人\\n              10k-18k  [北京市朝阳区望京阜通东大街1号望京soho，塔2，B座20层]   \n",
       "3    50-150人\\n              15k-25k              [上海市长宁区金钟路658弄5号楼2楼]   \n",
       "4    2000人以上\\n               6k-10k          [苏州工业园区星湖街328号创意产业园7幢8楼]   \n",
       "\n",
       "  Financing                                                 JD  \n",
       "0        A轮                                                [ ]  \n",
       "1       未融资  [职位描述：, <br/>, 1、负责业务数据整理，推进部门分析体系建设。, <br/>, ...  \n",
       "2      上市公司                                            [岗位职责：]  \n",
       "3      上市公司        [<strong>IOS软件开发工程师 –数据媒体应用 <br/></strong>]  \n",
       "4     D轮及以上                  [<strong>数据分析师（移动互联网方向）</strong>]  "
      ]
     },
     "execution_count": 10,
     "metadata": {},
     "output_type": "execute_result"
    }
   ],
   "source": [
    "data.head()"
   ]
  },
  {
   "cell_type": "code",
   "execution_count": 19,
   "metadata": {
    "collapsed": true
   },
   "outputs": [
    {
     "data": {
      "text/plain": [
       "0                                移动互联网\\n                \n",
       "1                            社交网络,生活服务\\n                \n",
       "2                                 社交网络\\n                \n",
       "3                           移动互联网,文化娱乐\\n                \n",
       "4                             移动互联网,旅游\\n                \n",
       "5                                移动互联网\\n                \n",
       "6                                移动互联网\\n                \n",
       "7                                 社交网络\\n                \n",
       "8                                移动互联网\\n                \n",
       "9                           移动互联网,电子商务\\n                \n",
       "10                          移动互联网,电子商务\\n                \n",
       "11                                数据服务\\n                \n",
       "12                                电子商务\\n                \n",
       "13                           数据服务,文化娱乐\\n                \n",
       "14                                社交网络\\n                \n",
       "15                           企业服务,数据服务\\n                \n",
       "16                             金融,数据服务\\n                \n",
       "17                           数据服务,文化娱乐\\n                \n",
       "18                                  金融\\n                \n",
       "19                               移动互联网\\n                \n",
       "20                                数据服务\\n                \n",
       "21                           数据服务,文化娱乐\\n                \n",
       "22                           数据服务,文化娱乐\\n                \n",
       "23                          移动互联网,电子商务\\n                \n",
       "24                             电子商务,金融\\n                \n",
       "25                           数据服务,文化娱乐\\n                \n",
       "26                          移动互联网,电子商务\\n                \n",
       "27                             金融,数据服务\\n                \n",
       "28                            移动互联网,招聘\\n                \n",
       "29                            移动互联网,招聘\\n                \n",
       "                             ...                        \n",
       "381                                 金融\\n                \n",
       "382                               电子商务\\n                \n",
       "383                              移动互联网\\n                \n",
       "384                              移动互联网\\n                \n",
       "385                                 金融\\n                \n",
       "386                                 金融\\n                \n",
       "387                                 金融\\n                \n",
       "388                                 金融\\n                \n",
       "389                          移动互联网,O2O\\n                \n",
       "390                                 金融\\n                \n",
       "391                                 金融\\n                \n",
       "392                           移动互联网,金融\\n                \n",
       "393                              移动互联网\\n                \n",
       "394                         移动互联网,电子商务\\n                \n",
       "395                              移动互联网\\n                \n",
       "396                          移动互联网,O2O\\n                \n",
       "397                                 金融\\n                \n",
       "398                           移动互联网,金融\\n                \n",
       "399                          社交网络,广告营销\\n                \n",
       "400                              移动互联网\\n                \n",
       "401                           移动互联网,金融\\n                \n",
       "402                           移动互联网,游戏\\n                \n",
       "403                                 游戏\\n                \n",
       "404                         移动互联网,社交网络\\n                \n",
       "405                              移动互联网\\n                \n",
       "406                           移动互联网,教育\\n                \n",
       "407    <p>2.熟悉SQL Server、Oracle、DB2、Teradata等数据库，熟练运用...\n",
       "408                                 金融\\n                \n",
       "409                           移动互联网,招聘\\n                \n",
       "410                          生活服务,分类信息\\n                \n",
       "Name: Industry, dtype: object"
      ]
     },
     "execution_count": 19,
     "metadata": {},
     "output_type": "execute_result"
    }
   ],
   "source": [
    "data['Industry']"
   ]
  },
  {
   "cell_type": "code",
   "execution_count": 23,
   "metadata": {
    "collapsed": false
   },
   "outputs": [
    {
     "ename": "TypeError",
     "evalue": "Empty 'DataFrame': no numeric data to plot",
     "output_type": "error",
     "traceback": [
      "\u001b[0;31m---------------------------------------------------------------------------\u001b[0m",
      "\u001b[0;31mTypeError\u001b[0m                                 Traceback (most recent call last)",
      "\u001b[0;32m<ipython-input-23-4123e27a2578>\u001b[0m in \u001b[0;36m<module>\u001b[0;34m()\u001b[0m\n\u001b[0;32m----> 1\u001b[0;31m \u001b[0mdata\u001b[0m\u001b[0;34m.\u001b[0m\u001b[0mplot\u001b[0m\u001b[0;34m(\u001b[0m\u001b[0mkind\u001b[0m\u001b[0;34m=\u001b[0m\u001b[0;34m'bar'\u001b[0m\u001b[0;34m)\u001b[0m\u001b[0;34m\u001b[0m\u001b[0m\n\u001b[0m",
      "\u001b[0;32m/Users/AlexCen1/anaconda/lib/python2.7/site-packages/pandas/tools/plotting.pyc\u001b[0m in \u001b[0;36mplot_frame\u001b[0;34m(data, x, y, kind, ax, subplots, sharex, sharey, layout, figsize, use_index, title, grid, legend, style, logx, logy, loglog, xticks, yticks, xlim, ylim, rot, fontsize, colormap, table, yerr, xerr, secondary_y, sort_columns, **kwds)\u001b[0m\n\u001b[1;32m   2486\u001b[0m                  \u001b[0myerr\u001b[0m\u001b[0;34m=\u001b[0m\u001b[0myerr\u001b[0m\u001b[0;34m,\u001b[0m \u001b[0mxerr\u001b[0m\u001b[0;34m=\u001b[0m\u001b[0mxerr\u001b[0m\u001b[0;34m,\u001b[0m\u001b[0;34m\u001b[0m\u001b[0m\n\u001b[1;32m   2487\u001b[0m                  \u001b[0msecondary_y\u001b[0m\u001b[0;34m=\u001b[0m\u001b[0msecondary_y\u001b[0m\u001b[0;34m,\u001b[0m \u001b[0msort_columns\u001b[0m\u001b[0;34m=\u001b[0m\u001b[0msort_columns\u001b[0m\u001b[0;34m,\u001b[0m\u001b[0;34m\u001b[0m\u001b[0m\n\u001b[0;32m-> 2488\u001b[0;31m                  **kwds)\n\u001b[0m\u001b[1;32m   2489\u001b[0m \u001b[0;34m\u001b[0m\u001b[0m\n\u001b[1;32m   2490\u001b[0m \u001b[0;34m\u001b[0m\u001b[0m\n",
      "\u001b[0;32m/Users/AlexCen1/anaconda/lib/python2.7/site-packages/pandas/tools/plotting.pyc\u001b[0m in \u001b[0;36m_plot\u001b[0;34m(data, x, y, subplots, ax, kind, **kwds)\u001b[0m\n\u001b[1;32m   2322\u001b[0m         \u001b[0mplot_obj\u001b[0m \u001b[0;34m=\u001b[0m \u001b[0mklass\u001b[0m\u001b[0;34m(\u001b[0m\u001b[0mdata\u001b[0m\u001b[0;34m,\u001b[0m \u001b[0msubplots\u001b[0m\u001b[0;34m=\u001b[0m\u001b[0msubplots\u001b[0m\u001b[0;34m,\u001b[0m \u001b[0max\u001b[0m\u001b[0;34m=\u001b[0m\u001b[0max\u001b[0m\u001b[0;34m,\u001b[0m \u001b[0mkind\u001b[0m\u001b[0;34m=\u001b[0m\u001b[0mkind\u001b[0m\u001b[0;34m,\u001b[0m \u001b[0;34m**\u001b[0m\u001b[0mkwds\u001b[0m\u001b[0;34m)\u001b[0m\u001b[0;34m\u001b[0m\u001b[0m\n\u001b[1;32m   2323\u001b[0m \u001b[0;34m\u001b[0m\u001b[0m\n\u001b[0;32m-> 2324\u001b[0;31m     \u001b[0mplot_obj\u001b[0m\u001b[0;34m.\u001b[0m\u001b[0mgenerate\u001b[0m\u001b[0;34m(\u001b[0m\u001b[0;34m)\u001b[0m\u001b[0;34m\u001b[0m\u001b[0m\n\u001b[0m\u001b[1;32m   2325\u001b[0m     \u001b[0mplot_obj\u001b[0m\u001b[0;34m.\u001b[0m\u001b[0mdraw\u001b[0m\u001b[0;34m(\u001b[0m\u001b[0;34m)\u001b[0m\u001b[0;34m\u001b[0m\u001b[0m\n\u001b[1;32m   2326\u001b[0m     \u001b[0;32mreturn\u001b[0m \u001b[0mplot_obj\u001b[0m\u001b[0;34m.\u001b[0m\u001b[0mresult\u001b[0m\u001b[0;34m\u001b[0m\u001b[0m\n",
      "\u001b[0;32m/Users/AlexCen1/anaconda/lib/python2.7/site-packages/pandas/tools/plotting.pyc\u001b[0m in \u001b[0;36mgenerate\u001b[0;34m(self)\u001b[0m\n\u001b[1;32m    910\u001b[0m     \u001b[0;32mdef\u001b[0m \u001b[0mgenerate\u001b[0m\u001b[0;34m(\u001b[0m\u001b[0mself\u001b[0m\u001b[0;34m)\u001b[0m\u001b[0;34m:\u001b[0m\u001b[0;34m\u001b[0m\u001b[0m\n\u001b[1;32m    911\u001b[0m         \u001b[0mself\u001b[0m\u001b[0;34m.\u001b[0m\u001b[0m_args_adjust\u001b[0m\u001b[0;34m(\u001b[0m\u001b[0;34m)\u001b[0m\u001b[0;34m\u001b[0m\u001b[0m\n\u001b[0;32m--> 912\u001b[0;31m         \u001b[0mself\u001b[0m\u001b[0;34m.\u001b[0m\u001b[0m_compute_plot_data\u001b[0m\u001b[0;34m(\u001b[0m\u001b[0;34m)\u001b[0m\u001b[0;34m\u001b[0m\u001b[0m\n\u001b[0m\u001b[1;32m    913\u001b[0m         \u001b[0mself\u001b[0m\u001b[0;34m.\u001b[0m\u001b[0m_setup_subplots\u001b[0m\u001b[0;34m(\u001b[0m\u001b[0;34m)\u001b[0m\u001b[0;34m\u001b[0m\u001b[0m\n\u001b[1;32m    914\u001b[0m         \u001b[0mself\u001b[0m\u001b[0;34m.\u001b[0m\u001b[0m_make_plot\u001b[0m\u001b[0;34m(\u001b[0m\u001b[0;34m)\u001b[0m\u001b[0;34m\u001b[0m\u001b[0m\n",
      "\u001b[0;32m/Users/AlexCen1/anaconda/lib/python2.7/site-packages/pandas/tools/plotting.pyc\u001b[0m in \u001b[0;36m_compute_plot_data\u001b[0;34m(self)\u001b[0m\n\u001b[1;32m   1015\u001b[0m         \u001b[0;32mif\u001b[0m \u001b[0mis_empty\u001b[0m\u001b[0;34m:\u001b[0m\u001b[0;34m\u001b[0m\u001b[0m\n\u001b[1;32m   1016\u001b[0m             raise TypeError('Empty {0!r}: no numeric data to '\n\u001b[0;32m-> 1017\u001b[0;31m                             'plot'.format(numeric_data.__class__.__name__))\n\u001b[0m\u001b[1;32m   1018\u001b[0m \u001b[0;34m\u001b[0m\u001b[0m\n\u001b[1;32m   1019\u001b[0m         \u001b[0mself\u001b[0m\u001b[0;34m.\u001b[0m\u001b[0mdata\u001b[0m \u001b[0;34m=\u001b[0m \u001b[0mnumeric_data\u001b[0m\u001b[0;34m\u001b[0m\u001b[0m\n",
      "\u001b[0;31mTypeError\u001b[0m: Empty 'DataFrame': no numeric data to plot"
     ]
    }
   ],
   "source": [
    "data.plot(kind='bar')"
   ]
  },
  {
   "cell_type": "code",
   "execution_count": null,
   "metadata": {
    "collapsed": true
   },
   "outputs": [],
   "source": []
  },
  {
   "cell_type": "code",
   "execution_count": null,
   "metadata": {
    "collapsed": true
   },
   "outputs": [],
   "source": []
  }
 ],
 "metadata": {
  "kernelspec": {
   "display_name": "Python 2",
   "language": "python",
   "name": "python2"
  },
  "language_info": {
   "codemirror_mode": {
    "name": "ipython",
    "version": 2
   },
   "file_extension": ".py",
   "mimetype": "text/x-python",
   "name": "python",
   "nbconvert_exporter": "python",
   "pygments_lexer": "ipython2",
   "version": "2.7.10"
  }
 },
 "nbformat": 4,
 "nbformat_minor": 0
}
